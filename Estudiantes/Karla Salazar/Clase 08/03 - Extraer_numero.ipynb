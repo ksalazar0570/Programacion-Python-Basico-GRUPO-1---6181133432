{
 "cells": [
  {
   "cell_type": "markdown",
   "metadata": {},
   "source": [
    "\n",
    "# Ejemplos de expresiones regulares en Python\n",
    "\n",
    "## 2. Extraer números de un texto:\n",
    "\n",
    "\n",
    "- Se importa el módulo `re` para trabajar con expresiones regulares.\n",
    "- Se define un patrón `r\"\\d+\\.\\d+\"`:\n",
    "    - `\\d+`: Esto coincide con uno o más dígitos. El \\d representa cualquier dígito del 0 al 9, y el + indica que debe haber uno o más dígitos consecutivos. Por lo tanto, \\d+ coincide con números enteros de uno o más dígitos.\n",
    "    - `\\.`: Esto coincide con el carácter punto literal `\".\"`, que se utiliza como separador decimal en números decimales. El `\\` se usa para escapar el punto, ya que en expresiones regulares el punto tiene un significado especial y se debe escapar para que se interprete literalmente.\n",
    "    - `\\d+`: Similar al primer `\\d+`, esto coincide con uno o más dígitos. En este caso, se utiliza para representar la parte decimal del número.\n",
    "- La función `re.findall()` busca todas las coincidencias del patrón en el texto y las devuelve como una lista."
   ]
  },
  {
   "cell_type": "code",
   "execution_count": null,
   "metadata": {},
   "outputs": [
    {
     "name": "stdout",
     "output_type": "stream",
     "text": [
      "Numeros encontrados:  ['19.99', '10']\n"
     ]
    }
   ],
   "source": [
    "import re\n",
    "\n",
    "texto = \"El precio es de $19.99 y hay un 10% de descuento.\"\n",
    "\n",
    "# Extraer números enteros y decimales\n",
    "\n",
    "# patron = r'\\d+\\.\\d+' # Solo extrae los montos float\n",
    "patron = r'\\d+(?:\\.\\d+)?'  # ?: Traer desde el primer caracter\n",
    "\n",
    "concidencias = re.findall(patron,texto)\n",
    "print('Numeros encontrados: ', concidencias)\n",
    "\n",
    "\"\"\"\n",
    "Expresión completa: \\d+(?:\\.\\d+)?\n",
    "1. \\d+\n",
    "    \\d representa cualquier dígito del 0 al 9.\n",
    "    + indica que debe haber al menos un dígito y puede haber más (uno o más).\n",
    "\n",
    "Ejemplos que coinciden con esta parte:\n",
    "    3\n",
    "    42\n",
    "    987\n",
    "\n",
    "2. (?:\\.\\d+)?\n",
    "\n",
    "Esta parte representa un número decimal opcional. Veamos cada parte:\n",
    "\n",
    "    (?: ... ) es un grupo no capturante. Se usa para agrupar sin guardar la coincidencia en un grupo numerado.\n",
    "    \\. representa un punto decimal . (hay que escaparlo con \\ porque . en regex significa \"cualquier carácter\").\n",
    "    \\d+ representa uno o más dígitos después del punto.\n",
    "    ? indica que toda esta parte (el grupo) es opcional. Es decir, puede aparecer una vez o no aparecer.\n",
    "\n",
    "Ejemplos que coinciden con toda la expresión:\n",
    "\n",
    "    5 (sin parte decimal)\n",
    "    3.14 (con parte decimal)\n",
    "    100.5\n",
    "    42.0\n",
    "\n",
    "Ejemplos que no coinciden:\n",
    "\n",
    "    .5 (debe haber al menos un dígito antes del punto)\n",
    "    3. (debe haber al menos un dígito después del punto si el punto está presente)\n",
    "\"\"\""
   ]
  },
  {
   "cell_type": "markdown",
   "metadata": {},
   "source": [
    "### Ejemplo 2.2\n",
    "Supongamos que tienes un texto que contiene información sobre el precio de varios productos en diferentes monedas. Queremos extraer todos los precios, tanto enteros como decimales, independientemente de la moneda en la que estén expresados."
   ]
  },
  {
   "cell_type": "code",
   "execution_count": null,
   "metadata": {},
   "outputs": [],
   "source": [
    "texto = \"El precio del primer producto es de $19.99 USD, el segundo producto cuesta €25.50, y el tercero vale ¢75000.00\"\n",
    "\n"
   ]
  },
  {
   "cell_type": "code",
   "execution_count": null,
   "metadata": {},
   "outputs": [
    {
     "name": "stdout",
     "output_type": "stream",
     "text": [
      "El precio del primer producto es de $19.99 USD, el segundo producto cuesta €25.50, y el tercero vale ¢75000.00\n",
      "Precios encontrados:  ['$19.99', '€25.50', '¢75000.00']\n"
     ]
    }
   ],
   "source": [
    "# Patrón regex para extraer precios en diferentes monedas\n",
    "\n",
    "import re\n",
    "texto = \"El precio del primer producto es de $19.99 USD, el segundo producto cuesta €25.50, y el tercero vale ¢75000.00\"\n",
    "patron = r'.\\d+\\.\\d+'\n",
    "#patron = r\"[$€¢]\\d+\\.\\d+\"\n",
    "\n",
    "concidencias = re.findall(patron,texto)\n",
    "\n",
    "print('Precios encontrados: ', concidencias)\n",
    "\n",
    "\"\"\"\n",
    "Expresión completa: '.\\d+\\.\\d+'\n",
    "1. . (punto)\n",
    "    En regex, el . representa cualquier carácter excepto un salto de línea.\n",
    "    Esto significa que la expresión empieza con cualquier carácter (una letra, número, símbolo, espacio, etc.).\n",
    "\n",
    "2. \\d+\n",
    "\n",
    "    \\d representa cualquier dígito del 0 al 9.\n",
    "    + indica que debe haber al menos un dígito (uno o más).\n",
    "\n",
    "3. \\.\n",
    "\n",
    "    Esto representa literalmente un punto decimal . (como en un número decimal).\n",
    "    Se debe escapar con \\ porque . en regex, por defecto, significa \"cualquier carácter\".\n",
    "\n",
    "4. \\d+ (segunda vez)\n",
    "\n",
    "    De nuevo, representa uno o más dígitos después del punto decimal.\n",
    "\n",
    "Resumen\n",
    "\n",
    "Esta expresión regular busca una secuencia que cumpla con los siguientes requisitos:\n",
    "\n",
    "    Empieza con cualquier carácter (cualquier cosa excepto un salto de línea).\n",
    "    Sigue con uno o más dígitos numéricos.\n",
    "    Luego aparece un punto decimal (.).\n",
    "    Después del punto, hay uno o más dígitos numéricos.\n",
    "\n",
    "Ejemplos que coinciden\n",
    "\n",
    "✅ a12.34 → Empieza con a, sigue con 12.34\n",
    "✅ 9.99 → Empieza con un espacio, sigue con 9.99\n",
    "✅ X100.5 → Empieza con X, sigue con 100.5\n",
    "Ejemplos que NO coinciden\n",
    "\n",
    "❌ 12.34 → No coincide porque no hay ningún carácter antes del primer dígito.\n",
    "❌ a.99 → No coincide porque después del primer . debe haber al menos un dígito antes del segundo punto.\n",
    "\"\"\""
   ]
  },
  {
   "cell_type": "markdown",
   "metadata": {},
   "source": [
    "### `patron = r\"[$€¢]\\d+\\.\\d+\":`\n",
    "\n",
    "- `[$€¢]`: Esta parte del patrón coincide con uno de los símbolos de moneda especificados: `\"$\"`, `\"€\"` o `\"¢\"`. Los corchetes `[]` indican un conjunto de caracteres, lo que significa que el patrón buscará cualquier coincidencia con alguno de los caracteres especificados dentro de ellos.\n",
    "- `\\d+`: Este elemento del patrón coincide con uno o más dígitos. El `\\d` representa cualquier dígito del `0 al 9`, y el `+` indica que debe haber uno o más dígitos consecutivos. Por lo tanto, `\\d+` coincide con números enteros de uno o más dígitos.\n",
    "- `\\.`: Este segmento del patrón coincide con el carácter punto literal `\".\"`. El punto se debe escapar con `\\` para que sea interpretado literalmente, ya que en expresiones regulares el punto tiene un significado especial.\n",
    "- `\\d+`: Similar al primer `\\d+`, esto coincide con uno o más dígitos. En este caso, se utiliza para representar la parte decimal del número."
   ]
  },
  {
   "cell_type": "markdown",
   "metadata": {},
   "source": [
    "##  Reto \n",
    "\n",
    "Supongamos que tienes un texto que contiene información sobre el precio de varios productos en diferentes monedas, pero además de los símbolos de moneda estándar como \"$\", \"€\" o \"¥\", también puede haber abreviaturas de monedas como \"USD\", \"EUR\", \"JPY\", etc. Queremos extraer todos los precios, tanto enteros como decimales, independientemente de la forma en que se especifique la moneda.\n",
    "\n",
    "`Pista : (?:[$€¢]|(?:USD|EUR|JPY))`"
   ]
  },
  {
   "cell_type": "code",
   "execution_count": 7,
   "metadata": {},
   "outputs": [
    {
     "name": "stdout",
     "output_type": "stream",
     "text": [
      "Precios encontrados:  ['$19.99', 'EUR25.50', 'JPY1500.40']\n"
     ]
    }
   ],
   "source": [
    "import re\n",
    "\n",
    "texto = \"El precio del primer producto es de $19.99 USD, el segundo producto cuesta EUR25.50, y el tercero vale JPY1500.40\"\n",
    "\n",
    "# Patrón regex para extraer precios en diferentes monedas\n",
    "#patron = r'(?:[$€¢]|(?:USD|EUR|JPY))\\d+\\.\\d+'\n",
    "\n",
    "patron = r'(?:[$€¢]|(?:USD|EUR|JPY))\\d+(?:\\.\\d+)?' #la corregí porque si alguna cifra no tenía decimales no la iba a detectar\n",
    "\n",
    "precios = re.findall(patron,texto)\n",
    "print('Precios encontrados: ', precios)\n",
    "\n",
    "\n",
    "\n",
    "#texto = \"El precio del primer producto es de $19.99 USD, el segundo producto cuesta EUR25.50, y el tercero vale JPY1500.40\"\n",
    "\n",
    "# Complete patrón regex para extraer precios en diferentes monedas\n",
    "\n",
    "#Salida esperada -> Precios encontrados: ['$19.99', 'EUR25.50', 'JPY1500.40']"
   ]
  }
 ],
 "metadata": {
  "kernelspec": {
   "display_name": "Python 3",
   "language": "python",
   "name": "python3"
  },
  "language_info": {
   "codemirror_mode": {
    "name": "ipython",
    "version": 3
   },
   "file_extension": ".py",
   "mimetype": "text/x-python",
   "name": "python",
   "nbconvert_exporter": "python",
   "pygments_lexer": "ipython3",
   "version": "3.13.1"
  }
 },
 "nbformat": 4,
 "nbformat_minor": 2
}
