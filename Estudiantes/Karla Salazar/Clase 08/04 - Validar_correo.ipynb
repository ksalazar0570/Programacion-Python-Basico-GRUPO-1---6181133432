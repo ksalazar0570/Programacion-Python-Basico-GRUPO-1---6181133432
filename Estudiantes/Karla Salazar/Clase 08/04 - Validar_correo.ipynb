{
 "cells": [
  {
   "cell_type": "markdown",
   "metadata": {},
   "source": [
    "\n",
    "# Ejemplos de expresiones regulares en Python\n",
    "\n",
    "## 3. Validar direcciones de correo electrónico:\n",
    "\n",
    "\n",
    "### Explicación:\n",
    "\n",
    "- Se define un patrón complejo que valida la estructura de un correo electrónico:\n",
    "    - `[a-z0-9]+`: Una o más letras minúsculas o números.\n",
    "    - `[\\._]?`: Un opcional punto o guión bajo.\n",
    "    - `[a-z0-9]`+: Una o más letras minúsculas o números.\n",
    "    - `[@]`: Carácter literal \"@\".\n",
    "    - `\\w+`: Uno o más caracteres alfanuméricos o guiones bajos.\n",
    "    - `\\.`: Carácter literal \".\".\n",
    "    - `\\w{2,3}`: Dos o tres caracteres alfanuméricos (código de país) com, net , cr , us.\n",
    "- La función `re.match()` verifica si el patrón coincide al inicio de la cadena.\n",
    "- Si el patrón coincide, se imprime un mensaje indicando que el correo es válido.\n",
    "- Si el patrón no coincide, se imprime un mensaje indicando que el correo no es válido."
   ]
  },
  {
   "cell_type": "code",
   "execution_count": 2,
   "metadata": {},
   "outputs": [
    {
     "name": "stdout",
     "output_type": "stream",
     "text": [
      "Correo electrónico válido: salazarkarla@hotmail.go.com\n"
     ]
    },
    {
     "name": "stderr",
     "output_type": "stream",
     "text": [
      "<>:18: SyntaxWarning: invalid escape sequence '\\w'\n",
      "<>:18: SyntaxWarning: invalid escape sequence '\\w'\n",
      "C:\\Users\\Karla Salazar\\AppData\\Local\\Temp\\ipykernel_4956\\1256870305.py:18: SyntaxWarning: invalid escape sequence '\\w'\n",
      "  \"\"\"\n"
     ]
    },
    {
     "data": {
      "text/plain": [
       "\"\\nExpresión completa:\\n\\nr'[a-z0-9]+[._]?+[a-z0-9]+[@]\\\\w+\\\\.\\\\w{2,3}'\\n\\nEsta expresión parece estar diseñada para validar direcciones de correo electrónico. Veamos cada parte en detalle:\\n1. [a-z0-9]+\\n\\n    [a-z0-9] → Coincide con cualquier letra minúscula (a-z) o número (0-9).\\n    + → Debe haber al menos un carácter de este tipo, y puede haber más.\\n\\n✅ Coincide con: john123, user, abc99\\n\\n❌ No coincide con: _user, .admin\\n2. [._]?+\\n\\n    [._] → Permite un punto (.) o un guion bajo (_).\\n    ? → Opcional, puede aparecer cero o una vez.\\n    + → Error en la expresión. No debería estar aquí, ya que ?+ no tiene sentido en este contexto.\\n        Probablemente el + después del ? es un error tipográfico. Debería ser solo ?.\\n\\n📌 Corrección sugerida:\\n\\nr'[a-z0-9]+[._]?[a-z0-9]+[@]\\\\w+\\\\.\\\\w{2,3}'\\n\\n✅ Coincide con: user.name, john_doe, test99\\n❌ No coincide con: user..name, _user, .admin\\n3. [a-z0-9]+ (de nuevo)\\n\\n    Otra secuencia de letras minúsculas o números.\\n    Esto asegura que, si hay un . o _, no sea al final ni el único carácter.\\n\\n✅ Coincide con: john123, user1, test9\\n\\n❌ No coincide con: user., john_, test.\\n4. [@]\\n\\n    Coincide exactamente con @.\\n\\n✅ Coincide con: @gmail.com, @yahoo.com\\n\\n❌ No coincide con: usergmail.com (falta @)\\n5. \\\\w+\\n\\n    \\\\w → Coincide con cualquier letra (a-zA-Z), número (0-9) o guion bajo (_).\\n    + → Debe haber al menos una letra, número o _.\\n\\n✅ Coincide con: gmail, yahoo, outlook\\n\\n❌ No coincide con: @.com, @123.abc\\n6. \\\\.\\n\\n    Coincide con un punto (.) antes del dominio.\\n\\n✅ Coincide con: gmail.com, yahoo.co\\n\\n❌ No coincide con: gmailcom, yahoo,com\\n7. \\\\w{2,3}\\n\\n    \\\\w → Cualquier letra, número o _.\\n    {2,3} → Debe haber entre 2 y 3 caracteres.\\n\\n✅ Coincide con: .com, .net, .org, .co\\n\\n❌ No coincide con: .technology (más de 3 letras), .x (solo una letra)\\nCorrección de la expresión\\n\\nSi eliminamos el error de ?+, la expresión corregida sería:\\n\\nr'[a-z0-9]+[._]?[a-z0-9]+[@]\\\\w+\\\\.\\\\w{2,3}'\\n\\nEjemplos que coinciden\\n\\n✅ john.doe@gmail.com\\n✅ user_123@yahoo.co\\n✅ test99@outlook.net\\nEjemplos que NO coinciden\\n\\n❌ .user@gmail.com (No puede empezar con .)\\n❌ user..name@gmail.com (No puede haber dos puntos consecutivos)\\n❌ user@.com (Falta el dominio)\\n❌ user@gmail.technology (Extensión demasiado larga)\\n\\n\""
      ]
     },
     "execution_count": 2,
     "metadata": {},
     "output_type": "execute_result"
    }
   ],
   "source": [
    "import re\n",
    "\n",
    "#correo = \"andres.mena@una.cr\"\n",
    "correo = 'salazarkarla@hotmail.go.com'\n",
    "\n",
    "# Patrón para validar email\n",
    "patron = r'[a-z0-9]+[._]?[a-z0-9]+[@]\\w+\\.\\w{2,3}'  #el signo ? es para solo un caracter\n",
    "# patron = r'^[a-zA-Z0-9._%+-]+@[a-zA-Z0-9.-]+\\.[a-zA-Z]{2,3}$' # Generado por IA %+- (significa que se puede repetir)\n",
    "patron = r'[a-z0-9]+[._]?[a-z0-9]+[@]\\w+(\\.\\w+)+' # propuesta del IA, elimina el + luego del primer ? y propone la repetición de la última parte para tener varios niveles de dominio\n",
    "\n",
    "if re.match(patron, correo):\n",
    "    print(\"Correo electrónico válido:\", correo)\n",
    "else:\n",
    "    print(\"Correo electrónico no válido:\", correo)\n",
    "    \n",
    "    \n",
    "    \n",
    "\"\"\"\n",
    "Expresión completa:\n",
    "\n",
    "r'[a-z0-9]+[._]?+[a-z0-9]+[@]\\w+\\.\\w{2,3}'\n",
    "\n",
    "Esta expresión parece estar diseñada para validar direcciones de correo electrónico. Veamos cada parte en detalle:\n",
    "1. [a-z0-9]+\n",
    "\n",
    "    [a-z0-9] → Coincide con cualquier letra minúscula (a-z) o número (0-9).\n",
    "    + → Debe haber al menos un carácter de este tipo, y puede haber más.\n",
    "\n",
    "✅ Coincide con: john123, user, abc99\n",
    "\n",
    "❌ No coincide con: _user, .admin\n",
    "2. [._]?+\n",
    "\n",
    "    [._] → Permite un punto (.) o un guion bajo (_).\n",
    "    ? → Opcional, puede aparecer cero o una vez.\n",
    "    + → Error en la expresión. No debería estar aquí, ya que ?+ no tiene sentido en este contexto.\n",
    "        Probablemente el + después del ? es un error tipográfico. Debería ser solo ?.\n",
    "\n",
    "📌 Corrección sugerida:\n",
    "\n",
    "r'[a-z0-9]+[._]?[a-z0-9]+[@]\\w+\\.\\w{2,3}'\n",
    "\n",
    "✅ Coincide con: user.name, john_doe, test99\n",
    "❌ No coincide con: user..name, _user, .admin\n",
    "3. [a-z0-9]+ (de nuevo)\n",
    "\n",
    "    Otra secuencia de letras minúsculas o números.\n",
    "    Esto asegura que, si hay un . o _, no sea al final ni el único carácter.\n",
    "\n",
    "✅ Coincide con: john123, user1, test9\n",
    "\n",
    "❌ No coincide con: user., john_, test.\n",
    "4. [@]\n",
    "\n",
    "    Coincide exactamente con @.\n",
    "\n",
    "✅ Coincide con: @gmail.com, @yahoo.com\n",
    "\n",
    "❌ No coincide con: usergmail.com (falta @)\n",
    "5. \\w+\n",
    "\n",
    "    \\w → Coincide con cualquier letra (a-zA-Z), número (0-9) o guion bajo (_).\n",
    "    + → Debe haber al menos una letra, número o _.\n",
    "\n",
    "✅ Coincide con: gmail, yahoo, outlook\n",
    "\n",
    "❌ No coincide con: @.com, @123.abc\n",
    "6. \\.\n",
    "\n",
    "    Coincide con un punto (.) antes del dominio.\n",
    "\n",
    "✅ Coincide con: gmail.com, yahoo.co\n",
    "\n",
    "❌ No coincide con: gmailcom, yahoo,com\n",
    "7. \\w{2,3}\n",
    "\n",
    "    \\w → Cualquier letra, número o _.\n",
    "    {2,3} → Debe haber entre 2 y 3 caracteres.\n",
    "\n",
    "✅ Coincide con: .com, .net, .org, .co\n",
    "\n",
    "❌ No coincide con: .technology (más de 3 letras), .x (solo una letra)\n",
    "Corrección de la expresión\n",
    "\n",
    "Si eliminamos el error de ?+, la expresión corregida sería:\n",
    "\n",
    "r'[a-z0-9]+[._]?[a-z0-9]+[@]\\w+\\.\\w{2,3}'\n",
    "\n",
    "Ejemplos que coinciden\n",
    "\n",
    "✅ john.doe@gmail.com\n",
    "✅ user_123@yahoo.co\n",
    "✅ test99@outlook.net\n",
    "Ejemplos que NO coinciden\n",
    "\n",
    "❌ .user@gmail.com (No puede empezar con .)\n",
    "❌ user..name@gmail.com (No puede haber dos puntos consecutivos)\n",
    "❌ user@.com (Falta el dominio)\n",
    "❌ user@gmail.technology (Extensión demasiado larga)\n",
    "\n",
    "\"\"\"\n",
    "    \n"
   ]
  },
  {
   "cell_type": "markdown",
   "metadata": {},
   "source": [
    "### Ejemplo 3.2\n",
    "Se solicita al usuario su nombre y correo electrónico, y luego se valida si el correo electrónico proporcionado es válido utilizando una función que utiliza expresiones regulares:"
   ]
  },
  {
   "cell_type": "code",
   "execution_count": 3,
   "metadata": {},
   "outputs": [
    {
     "name": "stdout",
     "output_type": "stream",
     "text": [
      "Hola ksalazar@fomuvel.com, tu correo electrónico ksalazar@fomuvel.com es válido.\n"
     ]
    }
   ],
   "source": [
    "import re\n",
    "\n",
    "#Crear Función Para validar Correo\n",
    "def validar_correo(correo):\n",
    "    # patron para validar el email\n",
    "    patron = r'^[a-zA-Z0-9._%+-]+@[a-zA-Z0-9.-]+\\.[a-zA-Z]{2,3}$'\n",
    "    \n",
    "    if re.match(patron,correo):\n",
    "        return True\n",
    "    else:\n",
    "        return False\n",
    "    \n",
    "\n",
    "\n",
    "nombre = input(\"Por favor, ingresa tu nombre: \")\n",
    "correo = input(\"Por favor, ingresa tu correo electrónico: \")\n",
    "\n",
    "if validar_correo(correo):\n",
    "    print(\"Hola {}, tu correo electrónico {} es válido.\".format(nombre, correo))\n",
    "else:\n",
    "    print(\"Lo siento {}, el correo electrónico {} no es válido.\".format(nombre, correo))\n",
    "\n"
   ]
  },
  {
   "cell_type": "markdown",
   "metadata": {},
   "source": [
    "##  Reto \n",
    "\n",
    "El patrón de expresión regular utilizado para validar correos electrónicos tiene una limitación que causa que el correo `andres.mena.abarca@una.ed.cr` sea considerado inválido. Para corregir esta limitante y permitir correos electrónicos con extensiones de dominio de más de tres caracteres, necesitamos mejorar la expresión regular utilizada para la validación."
   ]
  },
  {
   "cell_type": "markdown",
   "metadata": {},
   "source": [
    "> PISTA :  El asterisco `(*)` en expresiones regulares se utiliza para indicar que el elemento al que se aplica puede aparecer cero o más veces. Es un cuantificador que modifica el elemento o grupo al que sigue, permitiendo que ese elemento se repita cualquier número de veces, incluso cero veces.\n",
    "\n",
    " Por ejemplo, si tenemos el patrón `a*`, esto coincidirá con:\n",
    "\n",
    "- Cadena vacía: `\"\"`.\n",
    "- Una sola `\"a\": \"a\"`.\n",
    "- Varias `\"a\"` consecutivas: `\"aa\"`, `\"aaa\"`, etc.\n",
    "- En resumen, el asterisco `(*)` significa **\"cero o más repeticiones\"** del elemento al que se aplica."
   ]
  },
  {
   "cell_type": "code",
   "execution_count": 6,
   "metadata": {},
   "outputs": [
    {
     "name": "stdout",
     "output_type": "stream",
     "text": [
      "Correo electrónico válido: andres.mena.abarca@una.ed.cr\n"
     ]
    }
   ],
   "source": [
    "import re\n",
    "\n",
    "correo = \"andres.mena.abarca@una.ed.cr\"\n",
    "\n",
    "# Patrón para validar email a mejorar\n",
    "# patron = r\"[a-z0-9]+[\\._]?[a-z0-9]+[@]\\w+[.]\\w{2,3}\"\n",
    "\n",
    "patron = r'[a-z0-9]+([._][a-z0-9]+)*[@]\\w+(\\.\\w+)+' # mejorado por IA\n",
    "\n",
    "if re.match(patron, correo):\n",
    "    print(\"Correo electrónico válido:\", correo)\n",
    "else:\n",
    "    print(\"Correo electrónico no válido:\", correo)\n",
    "    \n",
    "# Salida esperada -> Correo electrónico válido: andres.mena.abarca@una.ed.cr    "
   ]
  }
 ],
 "metadata": {
  "kernelspec": {
   "display_name": "Python 3",
   "language": "python",
   "name": "python3"
  },
  "language_info": {
   "codemirror_mode": {
    "name": "ipython",
    "version": 3
   },
   "file_extension": ".py",
   "mimetype": "text/x-python",
   "name": "python",
   "nbconvert_exporter": "python",
   "pygments_lexer": "ipython3",
   "version": "3.13.1"
  }
 },
 "nbformat": 4,
 "nbformat_minor": 2
}
