{
 "cells": [
  {
   "cell_type": "markdown",
   "metadata": {},
   "source": [
    "# Portada\n",
    "\n",
    "Curso Python Introductorio\n",
    "\n",
    "Estudiante: Karla Salazar Chavarría\n",
    "\n",
    "2025-02-08\n",
    "\n",
    "# Introducción\n",
    "Este notebook explora el uso de funciones en Python, su importancia en la programación modular y su impacto en la eficiencia del código.\n",
    "\n",
    "Las funciones permiten mejorar la reutilización del código, modularizar programas y aumentar la escalabilidad del desarrollo de software.\n",
    "\n",
    "# Sección 1: Definición y Propósito de las Funciones en Python\n",
    "## ¿Qué son las funciones?\n",
    "Las funciones en Python permiten encapsular código reutilizable, mejorando la modularización y eficiencia en el desarrollo de software.\n"
   ]
  },
  {
   "cell_type": "code",
   "execution_count": null,
   "metadata": {},
   "outputs": [],
   "source": [
    "# Ejemplo en Python\n",
    "def saludar():\n",
    "    print(\"¡Hola, bienvenido a Python!\")\n",
    "saludar()"
   ]
  },
  {
   "cell_type": "markdown",
   "metadata": {},
   "source": [
    "## Beneficios de modularizar código con funciones:\n",
    "- Reutilización del código.\n",
    "- Mayor claridad y organización.\n",
    "- Facilidad para depurar y probar.\n",
    "\n",
    "## Importancia de la reutilización de código\n",
    "\n",
    "La reutilización del código es un principio fundamental en la programación que permite mejorar la eficiencia y calidad del desarrollo de software. Su importancia radica en varios aspectos clave:\n",
    "\n",
    "Beneficios de la reutilización del código:\n",
    "\n",
    "- Ahorro de tiempo y esfuerzo\n",
    "    - Al reutilizar código previamente escrito y probado, los desarrolladores pueden enfocarse en nuevas funcionalidades sin tener que reescribir partes ya existentes.\n",
    "\n",
    "- Menos errores y mayor confiabilidad\n",
    "    - Un código que ya ha sido utilizado y probado en diferentes escenarios tiende a ser más estable y menos propenso a errores.\n",
    "\n",
    "- Mantenimiento más fácil\n",
    "    - En lugar de modificar múltiples fragmentos de código repetido, se puede actualizar solo una función o módulo, aplicando los cambios a todas sus implementaciones.\n",
    "\n",
    "- Mejor organización y modularidad\n",
    "    - Permite dividir un programa en partes más pequeñas y manejables, facilitando su comprensión y colaboración entre desarrolladores.\n",
    "\n",
    "- Facilita la escalabilidad\n",
    "    - Un software bien modularizado y reutilizable puede crecer de manera más eficiente, adaptándose a nuevas necesidades sin afectar la estructura existente.\n",
    "\n",
    "- Reducción del costo de desarrollo\n",
    "    - En proyectos grandes, reutilizar código evita costos adicionales en tiempo de desarrollo y corrección de errores."
   ]
  },
  {
   "cell_type": "code",
   "execution_count": null,
   "metadata": {},
   "outputs": [],
   "source": [
    "def calcular_area_rectangulo(base, altura):\n",
    "    return base * altura\n",
    "\n",
    "# Reutilización de la función en diferentes escenarios\n",
    "print(\"Área 1:\", calcular_area_rectangulo(5, 10))\n",
    "print(\"Área 2:\", calcular_area_rectangulo(7, 3))"
   ]
  },
  {
   "cell_type": "markdown",
   "metadata": {},
   "source": [
    "# Sección 2: Tipos de Funciones en Python\n",
    "## Funciones con y sin retorno\n",
    "\n",
    "Las funciones sin retorno son aquellas que solo ejecutan instrucciones dentro de ellas.  Con retorno son aquellas que devuelven algún valor.\n",
    "En el ejemplo, suma es con retorno e imprimir_mensaje es sin retorno."
   ]
  },
  {
   "cell_type": "code",
   "execution_count": null,
   "metadata": {},
   "outputs": [],
   "source": [
    "def suma(a, b):\n",
    "    return a + b\n",
    "\n",
    "def imprimir_mensaje():\n",
    "    print(\"Esta es una función sin retorno.\")\n",
    "\n",
    "resultado = suma(3, 5)\n",
    "print(\"Suma:\", resultado)\n",
    "imprimir_mensaje()"
   ]
  },
  {
   "cell_type": "markdown",
   "metadata": {},
   "source": [
    "## Funciones con parámetros y valores predeterminados\n",
    "Las funciones pueden recibir parámetros que se utilizarán en el código interno."
   ]
  },
  {
   "cell_type": "code",
   "execution_count": null,
   "metadata": {},
   "outputs": [],
   "source": [
    "def saludo_personalizado(nombre=\"Usuario\"):\n",
    "    print(f\"Hola, {nombre}!\")\n",
    "\n",
    "saludo_personalizado()\n",
    "saludo_personalizado(\"Juan\")"
   ]
  },
  {
   "cell_type": "markdown",
   "metadata": {},
   "source": [
    "## Uso de *args y **kwargs\n",
    "Los parámetros *args son aquellas que pueden recibir un número indeterminado de parámetros.  Se almacenan como tuplas.\n",
    "\n",
    "Los **kwargs (abreviatura de \"Keyword Arguments\") permite pasar un número variable de argumentos con nombre a una función. Estos argumentos se reciben como un diccionario, donde las claves son los nombres de los argumentos y los valores son sus respectivos valores.\n"
   ]
  },
  {
   "cell_type": "code",
   "execution_count": null,
   "metadata": {},
   "outputs": [],
   "source": [
    "def suma_varios(*args):\n",
    "    return sum(args)\n",
    "\n",
    "def imprimir_datos(**kwargs):\n",
    "    for clave, valor in kwargs.items():\n",
    "        print(f\"{clave}: {valor}\")\n",
    "\n",
    "print(\"Suma de varios números:\", suma_varios(1, 2, 3, 4, 5))\n",
    "imprimir_datos(nombre=\"Ana\", edad=25, ciudad=\"Madrid\")"
   ]
  },
  {
   "cell_type": "markdown",
   "metadata": {},
   "source": [
    "\n",
    "## Funciones anónimas (lambda)\n",
    "\n",
    "Las funciones lambda en Python son funciones anónimas (es decir, sin nombre) que se definen en una sola línea utilizando la palabra clave lambda. Se usan para operaciones simples y expresiones cortas.\n",
    "\n",
    "Las funciones lambda son útiles cuando necesitas una función corta y rápida sin definirla con def. Se usan comúnmente en:\n",
    "\n",
    "- Funciones de orden superior (map, filter, sorted, etc.)\n",
    "- Expresiones simples dentro de otras funciones\n",
    "- Código más conciso y legible en casos específicos"
   ]
  },
  {
   "cell_type": "code",
   "execution_count": null,
   "metadata": {},
   "outputs": [],
   "source": [
    "# lambda\n",
    "multiplicar = lambda x, y: x * y\n",
    "print(\"Multiplicación con lambda:\", multiplicar(3, 4))\n",
    "\n",
    "\n",
    "# map() aplica una función a cada elemento de una lista\n",
    "numeros = [1, 2, 3, 4]\n",
    "dobles = list(map(lambda x: x * 2, numeros))\n",
    "\n",
    "print(dobles)  # Salida: [2, 4, 6, 8]\n",
    "\n",
    "\n",
    "# filter() selecciona elementos que cumplen una condición.\n",
    "numeros = [1, 2, 3, 4, 5, 6]\n",
    "pares = list(filter(lambda x: x % 2 == 0, numeros))\n",
    "\n",
    "print(pares)  # Salida: [2, 4, 6]\n",
    "\n",
    "\n",
    "# sorted() y lambda como clave de ordenación\n",
    "palabras = [\"manzana\", \"pera\", \"uva\", \"banana\"]\n",
    "ordenadas = sorted(palabras, key=lambda x: len(x))\n",
    "\n",
    "print(ordenadas)  # Salida: ['uva', 'pera', 'banana', 'manzana']"
   ]
  },
  {
   "cell_type": "markdown",
   "metadata": {},
   "source": [
    "## Funciones recursivas\n",
    "\n",
    "Una función recursiva es una función que se llama a sí misma dentro de su propio cuerpo para resolver un problema. Se utilizan para dividir un problema grande en subproblemas más pequeños y manejables.\n"
   ]
  },
  {
   "cell_type": "code",
   "execution_count": null,
   "metadata": {},
   "outputs": [],
   "source": [
    "def factorial(n):\n",
    "    if n == 0:\n",
    "        return 1\n",
    "    return n * factorial(n - 1)\n",
    "\n",
    "print(\"Factorial de 5:\", factorial(5))\n",
    "\n",
    "# para evitar el stack overflow usar memorización con functools.lru_cache para almacenar resultados:\n",
    "\n",
    "from functools import lru_cache\n",
    "\n",
    "@lru_cache(maxsize=None)\n",
    "def fibonacci_memo(n):\n",
    "    if n < 2:\n",
    "        return n\n",
    "    return fibonacci_memo(n - 1) + fibonacci_memo(n - 2)\n",
    "\n",
    "print(fibonacci_memo(50))  # Mucho más rápido"
   ]
  },
  {
   "cell_type": "markdown",
   "metadata": {},
   "source": [
    "## Generadores (yield)\n",
    "Los generadores son un tipo especial de función en Python que permiten crear iteradores de manera eficiente. En lugar de devolver todos los valores de una vez, los generadores producen valores bajo demanda usando la palabra clave yield.\n",
    "\n",
    "Diferencia clave entre return y yield\n",
    "- return finaliza la función y devuelve un valor.\n",
    "- yield pausa la ejecución de la función y devuelve un valor, pero recuerda su estado para continuar desde ahí en la próxima llamada."
   ]
  },
  {
   "cell_type": "code",
   "execution_count": 1,
   "metadata": {},
   "outputs": [
    {
     "name": "stdout",
     "output_type": "stream",
     "text": [
      "Generador: 0\n",
      "Generador: 1\n",
      "Generador: 2\n",
      "Generador: 3\n",
      "Generador: 4\n"
     ]
    }
   ],
   "source": [
    "def contador():\n",
    "    num = 0\n",
    "    while num < 5:\n",
    "        yield num\n",
    "        num += 1\n",
    "\n",
    "for valor in contador():\n",
    "    print(\"Generador:\", valor)"
   ]
  },
  {
   "cell_type": "markdown",
   "metadata": {},
   "source": [
    "## Closures y decoradores\n",
    "Los closures y decoradores son conceptos avanzados en Python que permiten mejorar la modularidad y reutilización del código.\n",
    "\n",
    "Un closure es una función interna que recuerda y tiene acceso a las variables de la función externa, incluso después de que la función externa haya terminado de ejecutarse."
   ]
  },
  {
   "cell_type": "code",
   "execution_count": null,
   "metadata": {},
   "outputs": [],
   "source": [
    "# Closure\n",
    "\n",
    "def crear_multiplicador(n):\n",
    "    def multiplicador(x):\n",
    "        return x * n  # 'n' se mantiene en memoria\n",
    "    return multiplicador\n",
    "\n",
    "duplicar = crear_multiplicador(2)  # Guarda una función que multiplica por 2\n",
    "triplicar = crear_multiplicador(3)  # Guarda una función que multiplica por 3\n",
    "\n",
    "print(duplicar(5))  # Salida: 10\n",
    "print(triplicar(5))  # Salida: 15\n",
    "\n",
    "# crear_multiplicador(n) devuelve la función multiplicador(x).\n",
    "# duplicar = crear_multiplicador(2) almacena una función que recuerda n = 2.\n",
    "# Cuando llamamos duplicar(5), devuelve 5 * 2 = 10.\n",
    "# Los closures permiten encapsular lógica sin necesidad de variables globales.\n"
   ]
  },
  {
   "cell_type": "markdown",
   "metadata": {},
   "source": [
    "Los decoradores son funciones que modifican el comportamiento de otra función sin cambiar su código. Se usan comúnmente para añadir funcionalidades como registro, autenticación, medición de tiempo, etc."
   ]
  },
  {
   "cell_type": "code",
   "execution_count": null,
   "metadata": {},
   "outputs": [],
   "source": [
    "def decorador(func):\n",
    "    def envoltura():\n",
    "        print(\"Ejecutando función decorada...\")\n",
    "        func()  # Llamamos a la función original\n",
    "        print(\"Finalizando función decorada...\")\n",
    "    return envoltura\n",
    "\n",
    "@decorador\n",
    "def saludo():\n",
    "    print(\"¡Hola, mundo!\")\n",
    "\n",
    "saludo()"
   ]
  },
  {
   "cell_type": "markdown",
   "metadata": {},
   "source": [
    "# Sección 3: Aplicación de Funciones en Problemas Reales\n",
    "## Aplicación en estructuras de datos"
   ]
  },
  {
   "cell_type": "code",
   "execution_count": null,
   "metadata": {},
   "outputs": [],
   "source": [
    "# Devolver el cuadrado en una lista recibida por parámetro\n",
    "def cuadrado_lista(lista):\n",
    "    return [x ** 2 for x in lista]\n",
    "\n",
    "print(\"Lista al cuadrado:\", cuadrado_lista([1, 2, 3, 4]))  # Salida: [1, 4, 9, 16, 25]\n",
    "\n",
    "\n",
    "# Extraer datos de una lista que cumplen con un criterio específico\n",
    "def filtrar_pares(lista):\n",
    "    return list(filter(lambda x: x % 2 == 0, lista))\n",
    "\n",
    "numeros = [1, 2, 3, 4, 5, 6, 7, 8, 9, 10]\n",
    "pares = filtrar_pares(numeros)\n",
    "\n",
    "print(\"Números pares:\", pares)  # Salida: [2, 4, 6, 8, 10]\n",
    "\n",
    "\n",
    "# Ordenar una lista de objetos (Ordenar productos por precio)\n",
    "productos = [\n",
    "    {\"nombre\": \"Laptop\", \"precio\": 1200},\n",
    "    {\"nombre\": \"Teléfono\", \"precio\": 800},\n",
    "    {\"nombre\": \"Tablet\", \"precio\": 500}\n",
    "]\n",
    "\n",
    "productos_ordenados = sorted(productos, key=lambda x: x[\"precio\"])\n",
    "\n",
    "print(\"Productos ordenados por precio:\")\n",
    "for p in productos_ordenados:\n",
    "    print(f\"{p['nombre']} - ${p['precio']}\")"
   ]
  },
  {
   "cell_type": "markdown",
   "metadata": {},
   "source": [
    "## Uso de funciones en procesamiento de datos\n",
    "- Las funciones en Python permiten procesar, limpiar y transformar datos de manera eficiente.\n",
    "- Aplicaciones en bases de datos, análisis de ventas, NLP y machine learning.\n",
    "- pandas, Counter, datetime y funciones personalizadas optimizan el manejo de datos."
   ]
  },
  {
   "cell_type": "code",
   "execution_count": null,
   "metadata": {},
   "outputs": [],
   "source": [
    "# Limpieza de datos en una lista de diccionarios\n",
    "def limpiar_datos(empleados):\n",
    "    for emp in empleados:\n",
    "        emp[\"nombre\"] = emp[\"nombre\"].strip().title()  # Elimina espacios y capitaliza nombres\n",
    "        emp[\"email\"] = emp[\"email\"].lower()  # Convierte los correos a minúsculas\n",
    "    return empleados\n",
    "\n",
    "datos_empleados = [\n",
    "    {\"nombre\": \" ana gomez \", \"email\": \"ANA.GOMEZ@correo.com\"},\n",
    "    {\"nombre\": \"carlos RIVERA\", \"email\": \"CarLos.RiVerA@correo.com\"}\n",
    "]\n",
    "\n",
    "datos_limpiados = limpiar_datos(datos_empleados)\n",
    "print(datos_limpiados)"
   ]
  },
  {
   "cell_type": "markdown",
   "metadata": {},
   "source": [
    "## Comparación entre funciones definidas por el usuario y funciones integradas\n",
    "En Python, existen dos tipos principales de funciones:\n",
    "\n",
    "- Funciones definidas por el usuario (Custom functions)\n",
    "-- Son funciones creadas por el programador usando def.\n",
    "-- Se pueden personalizar para realizar tareas específicas según las necesidades del proyecto.\n",
    "\n",
    "- Funciones integradas (Built-in functions)\n",
    "-- Son funciones predefinidas que vienen con Python.\n",
    "-- Se pueden usar directamente sin necesidad de definirlas previamente.\n",
    "-- Ejemplos: print(), len(), sum(), max(), min(), sorted(), etc."
   ]
  },
  {
   "cell_type": "code",
   "execution_count": null,
   "metadata": {},
   "outputs": [],
   "source": [
    "lista_numeros = [10, 20, 30, 40]\n",
    "print(\"Suma con sum():\", sum(lista_numeros))\n",
    "\n",
    "\n",
    "def suma_personalizada(lista):\n",
    "    total = 0\n",
    "    for num in lista:\n",
    "        total += num\n",
    "    return total\n",
    "\n",
    "print(suma_personalizada([10, 20, 30, 40]))  # Salida: 100"
   ]
  },
  {
   "cell_type": "markdown",
   "metadata": {},
   "source": [
    "\n",
    "# Sección 4: Conclusiones\n",
    "\n",
    "## Conclusiones\n",
    "Este notebook ha explorado el uso de funciones en Python, demostrando su importancia en la modularización y eficiencia del código.\n",
    "\n",
    "## Hallazgos:\n",
    "- Las funciones permiten organizar y reutilizar código de manera eficiente.\n",
    "- Los diferentes tipos de funciones ofrecen soluciones adaptadas a distintos contextos.\n",
    "- Los decoradores y closures son técnicas avanzadas que mejoran la funcionalidad del código.\n",
    "\n",
    "## Aprendizaje personal:\n",
    "El uso adecuado de funciones mejora significativamente la estructura del código, haciéndolo más legible y mantenible.\n",
    "La investigación me permitió conocer las estructuras de la sintaxis de Python.\n",
    "\n",
    "## Referencias\n",
    "- Documentación oficial de Python: https://docs.python.org/3/tutorial/\n",
    "- \"Automate the Boring Stuff with Python\" - Al Sweigart\n",
    "- \"Python Crash Course\" - Eric Matthes\n",
    "- Uso ChatGPT 4o"
   ]
  }
 ],
 "metadata": {
  "kernelspec": {
   "display_name": "Python 3",
   "language": "python",
   "name": "python3"
  },
  "language_info": {
   "codemirror_mode": {
    "name": "ipython",
    "version": 3
   },
   "file_extension": ".py",
   "mimetype": "text/x-python",
   "name": "python",
   "nbconvert_exporter": "python",
   "pygments_lexer": "ipython3",
   "version": "3.13.1"
  }
 },
 "nbformat": 4,
 "nbformat_minor": 2
}
